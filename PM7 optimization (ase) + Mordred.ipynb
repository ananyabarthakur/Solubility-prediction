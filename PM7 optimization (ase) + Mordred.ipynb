{
 "cells": [
  {
   "cell_type": "code",
   "execution_count": null,
   "metadata": {},
   "outputs": [],
   "source": [
    "# Using ase mopac PM7 optimization and obtaining 2d/3d descriptors using mordred "
   ]
  },
  {
   "cell_type": "code",
   "execution_count": null,
   "metadata": {},
   "outputs": [],
   "source": [
    "import rdkit\n",
    "from rdkit import Chem\n",
    "import pandas as pd\n",
    "from rdkit import Chem\n",
    "from rdkit.Chem import AllChem\n",
    "from ase.calculators.mopac import MOPAC\n",
    "from ase.io import read, write\n",
    "import mordred\n",
    "from mordred import Calculator, descriptors\n",
    "from rdkit.Geometry import Point3D"
   ]
  },
  {
   "cell_type": "code",
   "execution_count": null,
   "metadata": {},
   "outputs": [],
   "source": [
    "import mordred\n",
    "from mordred import Calculator, descriptors"
   ]
  },
  {
   "cell_type": "code",
   "execution_count": null,
   "metadata": {},
   "outputs": [],
   "source": [
    "desc = ['AtomCount','HeavyAtom','AromaticAtomsCount','HBondAcceptor','HBondDonor','RotatableBondsCount','BondCount',\n",
    "        'AromaticBondsCount','HeavyBondCount','SingleBondCount','DoubleBondCount','TripleBondCount','McGowanVolume',\n",
    "        'TopoPSA_NO','TopoPSA','LabuteASA','APol','BPol','AcidicGroupCount','BasicGroupCount','EccentricConnectivityIndex',\n",
    "        'RawTopologicalCharge','MeanTopologicalCharge','SLogP','SMR','BertzCT','BalabanJ','WienerIndex','ZagrebIndex',\n",
    "        'ABCIndex','ABCGGIndex','PNSA1','PNSA2','PNSA3','PNSA4' ,'PNSA5','PPSA1','PPSA2','PPSA3','PPSA4','PPSA5','DPSA1',\n",
    "        'DPSA2','DPSA3','DPSA4','DPSA5','FNSA1','FNSA2','FNSA3','FNSA4','FNSA5','FPSA1','FPSA2','FPSA3','FPSA4',\n",
    "        'FPSA5','WNSA1','WNSA2', 'WNSA3','WNSA4', 'WNSA5','WPSA1','WPSA2','WPSA3','WPSA4','WPSA5','RNCG',\n",
    "        'RPCG','RNCS' ,'RPCS' ,'TASA' ,'TPSA','MomentOfInertiaX']"
   ]
  },
  {
   "cell_type": "code",
   "execution_count": null,
   "metadata": {},
   "outputs": [],
   "source": [
    "list_of_lists= []\n",
    "\n",
    "AtomCount=[]\n",
    "HeavyAtom=[]\n",
    "AromaticAtomsCount = []\n",
    "HBondAcceptor = []\n",
    "HBondDonor =[]\n",
    "RotatableBondsCount=[]\n",
    "BondCount=[]\n",
    "AromaticBondsCount =[]\n",
    "HeavyBondCount=[]\n",
    "SingleBondCount=[]\n",
    "DoubleBondCount =[]\n",
    "TripleBondCount=[]\n",
    "McGowanVolume=[]\n",
    "TopoPSA_NO=[]\n",
    "TopoPSA=[]\n",
    "LabuteASA=[]\n",
    "APol=[]\n",
    "BPol=[]\n",
    "AcidicGroupCount=[]\n",
    "BasicGroupCount=[]\n",
    "EccentricConnectivityIndex =[]\n",
    "RawTopologicalCharge=[]\n",
    "MeanTopologicalCharge =[]\n",
    "SLogP=[]\n",
    "SMR=[]\n",
    "BertzCT=[]\n",
    "BalabanJ=[]\n",
    "WienerIndex =[]\n",
    "ZagrebIndex=[]\n",
    "ABCIndex=[]\n",
    "ABCGGIndex=[]\n",
    "PNSA1=[]\n",
    "PNSA2 =[]\n",
    "PNSA3=[]\n",
    "PNSA4 =[]\n",
    "PNSA5 =[]\n",
    "PPSA1=[]\n",
    "PPSA2 =[]\n",
    "PPSA3=[]\n",
    "PPSA4=[]\n",
    "PPSA5=[]\n",
    "DPSA1=[]\n",
    "DPSA2=[]\n",
    "DPSA3=[]\n",
    "DPSA4 =[]\n",
    "DPSA5 =[]\n",
    "FNSA1=[]\n",
    "FNSA2 =[]\n",
    "FNSA3=[]\n",
    "FNSA4=[]\n",
    "FNSA5 =[]\n",
    "FPSA1=[]\n",
    "FPSA2=[]\n",
    "FPSA3 =[]\n",
    "FPSA4=[]\n",
    "FPSA5=[]\n",
    "WNSA1=[]\n",
    "WNSA2=[]\n",
    "WNSA3=[]\n",
    "WNSA4 =[]\n",
    "WNSA5=[]\n",
    "WPSA1=[]\n",
    "WPSA2 =[]\n",
    "WPSA3=[]\n",
    "WPSA4=[]\n",
    "WPSA5 =[]\n",
    "RNCG =[]\n",
    "RPCG=[]\n",
    "RNCS =[]\n",
    "RPCS =[]\n",
    "TASA =[]\n",
    "TPSA=[]\n",
    "MomentOfInertiaX=[]"
   ]
  },
  {
   "cell_type": "code",
   "execution_count": null,
   "metadata": {},
   "outputs": [],
   "source": [
    "list_of_lists.append(AtomCount)\n",
    "list_of_lists.append(HeavyAtom)\n",
    "list_of_lists.append(AromaticAtomsCount)\n",
    "list_of_lists.append(HBondAcceptor)\n",
    "list_of_lists.append(HBondDonor)\n",
    "list_of_lists.append(RotatableBondsCount)\n",
    "list_of_lists.append(BondCount)\n",
    "list_of_lists.append(AromaticBondsCount)\n",
    "list_of_lists.append(HeavyBondCount)\n",
    "list_of_lists.append(SingleBondCount)\n",
    "list_of_lists.append(DoubleBondCount )\n",
    "list_of_lists.append(TripleBondCount)\n",
    "list_of_lists.append(McGowanVolume)\n",
    "list_of_lists.append(TopoPSA_NO)\n",
    "list_of_lists.append(TopoPSA)\n",
    "list_of_lists.append(LabuteASA)\n",
    "list_of_lists.append(APol)\n",
    "list_of_lists.append(BPol)\n",
    "list_of_lists.append(AcidicGroupCount)\n",
    "list_of_lists.append(BasicGroupCount)\n",
    "list_of_lists.append(EccentricConnectivityIndex)\n",
    "list_of_lists.append(RawTopologicalCharge)\n",
    "list_of_lists.append(MeanTopologicalCharge)\n",
    "list_of_lists.append(SLogP)\n",
    "list_of_lists.append(SMR)\n",
    "list_of_lists.append(BertzCT)\n",
    "list_of_lists.append(BalabanJ)\n",
    "list_of_lists.append(WienerIndex)\n",
    "list_of_lists.append(ZagrebIndex)\n",
    "list_of_lists.append(ABCIndex)\n",
    "list_of_lists.append(ABCGGIndex)\n",
    "list_of_lists.append(PNSA1)\n",
    "list_of_lists.append(PNSA2)\n",
    "list_of_lists.append(PNSA3)\n",
    "list_of_lists.append(PNSA4)\n",
    "list_of_lists.append(PNSA5)\n",
    "list_of_lists.append(PPSA1)\n",
    "list_of_lists.append(PPSA2)\n",
    "list_of_lists.append(PPSA3)\n",
    "list_of_lists.append(PPSA4)\n",
    "list_of_lists.append(PPSA5)\n",
    "list_of_lists.append(DPSA1)\n",
    "list_of_lists.append(DPSA2)\n",
    "list_of_lists.append(DPSA3)\n",
    "list_of_lists.append(DPSA4)\n",
    "list_of_lists.append(DPSA5)\n",
    "list_of_lists.append(FNSA1)\n",
    "list_of_lists.append(FNSA2)\n",
    "list_of_lists.append(FNSA3)\n",
    "list_of_lists.append(FNSA4)\n",
    "list_of_lists.append(FNSA5)\n",
    "list_of_lists.append(FPSA1)\n",
    "list_of_lists.append(FPSA2)\n",
    "list_of_lists.append(FPSA3)\n",
    "list_of_lists.append(FPSA4)\n",
    "list_of_lists.append(FPSA5)\n",
    "list_of_lists.append(WNSA1)\n",
    "list_of_lists.append(WNSA2)\n",
    "list_of_lists.append(WNSA3)\n",
    "list_of_lists.append(WNSA4)\n",
    "list_of_lists.append(WNSA5)\n",
    "list_of_lists.append(WPSA1)\n",
    "list_of_lists.append(WPSA2)\n",
    "list_of_lists.append(WPSA3)\n",
    "list_of_lists.append(WPSA4)\n",
    "list_of_lists.append(WPSA5)\n",
    "list_of_lists.append(RNCG)\n",
    "list_of_lists.append(RPCG)\n",
    "list_of_lists.append(RNCS)\n",
    "list_of_lists.append(RPCS)\n",
    "list_of_lists.append(TASA)\n",
    "list_of_lists.append(TPSA)\n",
    "list_of_lists.append(MomentOfInertiaX)"
   ]
  },
  {
   "cell_type": "code",
   "execution_count": null,
   "metadata": {},
   "outputs": [],
   "source": [
    "id_to_remove =  []"
   ]
  },
  {
   "cell_type": "code",
   "execution_count": null,
   "metadata": {},
   "outputs": [],
   "source": [
    "import pandas as pd\n",
    "import numpy as np"
   ]
  },
  {
   "cell_type": "code",
   "execution_count": null,
   "metadata": {},
   "outputs": [],
   "source": [
    "def get_mordred(mol):   \n",
    "\n",
    "    calc1 = mordred.Calculator()   \n",
    "\n",
    "    calc1.register(mordred.AtomCount.AtomCount(\"X\"))\n",
    "    calc1.register(mordred.AtomCount.AtomCount(\"HeavyAtom\"))\n",
    "    calc1.register(mordred.Aromatic.AromaticAtomsCount)\n",
    "\n",
    "    calc1.register(mordred.HydrogenBond.HBondAcceptor)\n",
    "    calc1.register(mordred.HydrogenBond.HBondDonor)\n",
    "    calc1.register(mordred.RotatableBond.RotatableBondsCount)  \n",
    "    calc1.register(mordred.BondCount.BondCount(\"any\", False))\n",
    "    calc1.register(mordred.Aromatic.AromaticBondsCount)  \n",
    "    calc1.register(mordred.BondCount.BondCount(\"heavy\", False))       \n",
    "    calc1.register(mordred.BondCount.BondCount(\"single\", False))\n",
    "    calc1.register(mordred.BondCount.BondCount(\"double\", False))\n",
    "    calc1.register(mordred.BondCount.BondCount(\"triple\", False))\n",
    "\n",
    "    calc1.register(mordred.McGowanVolume.McGowanVolume)\n",
    "    calc1.register(mordred.TopoPSA.TopoPSA(True))\n",
    "    calc1.register(mordred.TopoPSA.TopoPSA(False))\n",
    "    calc1.register(mordred.MoeType.LabuteASA)\n",
    "    calc1.register(mordred.Polarizability.APol)\n",
    "    calc1.register(mordred.Polarizability.BPol)\n",
    "    calc1.register(mordred.AcidBase.AcidicGroupCount)\n",
    "    calc1.register(mordred.AcidBase.BasicGroupCount)\n",
    "    calc1.register(mordred.EccentricConnectivityIndex.EccentricConnectivityIndex)        \n",
    "    calc1.register(mordred.TopologicalCharge.TopologicalCharge(\"raw\",1))\n",
    "    calc1.register(mordred.TopologicalCharge.TopologicalCharge(\"mean\",1))\n",
    "\n",
    "    calc1.register(mordred.SLogP)\n",
    "    calc1.register(mordred.BertzCT.BertzCT)\n",
    "    calc1.register(mordred.BalabanJ.BalabanJ)\n",
    "    calc1.register(mordred.WienerIndex.WienerIndex(True))\n",
    "    calc1.register(mordred.ZagrebIndex.ZagrebIndex(1,1))\n",
    "    calc1.register(mordred.ABCIndex)\n",
    "\n",
    "    #3D descriptors\n",
    "    calc1.register(mordred.CPSA.PNSA)\n",
    "    calc1.register(mordred.CPSA.PPSA)\n",
    "    calc1.register(mordred.CPSA.DPSA)\n",
    "    calc1.register(mordred.CPSA.FNSA)\n",
    "    calc1.register(mordred.CPSA.FPSA)\n",
    "    calc1.register(mordred.CPSA.WNSA)\n",
    "    calc1.register(mordred.CPSA.WPSA)\n",
    "    calc1.register(mordred.CPSA.RNCG)\n",
    "    calc1.register(mordred.CPSA.RPCG)\n",
    "    calc1.register(mordred.CPSA.RNCS)\n",
    "    calc1.register(mordred.CPSA.RPCS)\n",
    "    calc1.register(mordred.CPSA.TASA)\n",
    "    calc1.register(mordred.CPSA.TPSA)\n",
    "    calc1.register(mordred.MomentOfInertia.MomentOfInertia(axis='X'))\n",
    "\n",
    "   # calc1.register(mordred.EState)\n",
    "    # return result\n",
    "    result = calc1(mol)\n",
    "    return result._values\n",
    "    "
   ]
  },
  {
   "cell_type": "code",
   "execution_count": null,
   "metadata": {},
   "outputs": [],
   "source": [
    "dataset = pd.read_csv('/users/ananyabarthakur/Desktop/Enterprise/QML/4399_list.csv')"
   ]
  },
  {
   "cell_type": "code",
   "execution_count": null,
   "metadata": {},
   "outputs": [],
   "source": [
    "dataset.head()"
   ]
  },
  {
   "cell_type": "code",
   "execution_count": null,
   "metadata": {},
   "outputs": [],
   "source": [
    "#SMILES\n",
    "smiles = dataset.columns[2]\n",
    "smiles_list = np.array(dataset[smiles])\n",
    "print (smiles_list)\n",
    "#ID\n",
    "ID = dataset.columns[1]\n",
    "id_list = np.array(dataset[ID])\n",
    "print (id_list)\n",
    "#sol\n",
    "sol= dataset.columns[3]\n",
    "sol_list = np.array(dataset[sol])\n",
    "print (sol_list)"
   ]
  },
  {
   "cell_type": "code",
   "execution_count": null,
   "metadata": {},
   "outputs": [],
   "source": [
    "len(sol_list)"
   ]
  },
  {
   "cell_type": "code",
   "execution_count": null,
   "metadata": {},
   "outputs": [],
   "source": [
    "from io import StringIO\n",
    "import time\n",
    "import sys\n",
    "Chem.WrapLogs()\n",
    "failures = []"
   ]
  },
  {
   "cell_type": "code",
   "execution_count": null,
   "metadata": {},
   "outputs": [],
   "source": [
    "# want to make a dataset of all molecules, 3d descriptors retrieved using ase mopac optimization of xyz files\n",
    "def generate():\n",
    "    \n",
    "    start = time.time()\n",
    "\n",
    "    for i,smiles in enumerate(smiles_list):\n",
    "\n",
    "        print ('starting for ', id_list[i])\n",
    "        try:\n",
    "            sio = sys.stderr = StringIO()\n",
    "            #create mol object\n",
    "            mol_rdkit = Chem.MolFromSmiles(smiles)\n",
    "            #read xyz file\n",
    "            mol_ase = read('/users/ananyabarthakur/Desktop/Enterprise/QML/commons/' + id_list[i]+'.xyz')\n",
    "            #optimize\n",
    "            mol_ase.calc = MOPAC(label='test', task = 'PM7')\n",
    "            new_atom_ps = mol_ase.get_positions()\n",
    "            cmap = {}\n",
    "            for i in range(mol_rdkit.GetNumAtoms()):\n",
    "                x,y,z = new_atom_ps[i]\n",
    "                cmap[i] = Point3D(x,y,z)\n",
    "            AllChem.EmbedMolecule(mol_rdkit,coordMap=cmap)\n",
    "            AllChem.EmbedMolecule(mol_rdkit)\n",
    "            #get mordred descriptors\n",
    "            result = get_mordred(mol_rdkit)\n",
    "            #input descriptor info to respective list\n",
    "            for i, listt in enumerate(list_of_lists):\n",
    "                listt.append(result[i])\n",
    "        except:\n",
    "            print (\"error, removing this ID\")\n",
    "            failures.append(sio.getvalue())\n",
    "            id_to_remove.append(i) \n",
    "            continue\n",
    "    print ('DONE. time taken = ', time.time()- start)"
   ]
  },
  {
   "cell_type": "code",
   "execution_count": null,
   "metadata": {},
   "outputs": [],
   "source": [
    "generate()"
   ]
  },
  {
   "cell_type": "code",
   "execution_count": null,
   "metadata": {},
   "outputs": [],
   "source": [
    "len(id_to_remove)"
   ]
  },
  {
   "cell_type": "code",
   "execution_count": null,
   "metadata": {},
   "outputs": [],
   "source": [
    "# remove IDs that did not work\n",
    "new_id_list = np.delete(id_list, id_to_remove)\n",
    "new_sol_list = np.delete(sol_list, id_to_remove)\n",
    "new_smiles_list = np.delete(smiles_list, id_to_remove)"
   ]
  },
  {
   "cell_type": "code",
   "execution_count": null,
   "metadata": {},
   "outputs": [],
   "source": [
    "#double check\n",
    "print(len(PPSA5))\n",
    "print(len(new_id_list))"
   ]
  },
  {
   "cell_type": "code",
   "execution_count": null,
   "metadata": {},
   "outputs": [],
   "source": [
    "descriptor_data = {\n",
    "                   'AtomCount' : AtomCount, \n",
    "                   'HeavyAtom' : HeavyAtom, 'AromaticAtomsCount':AromaticAtomsCount, \n",
    "                   'HBondAcceptor':HBondAcceptor, 'HBondDonor':HBondDonor, \n",
    "                   'RotatableBondsCount':RotatableBondsCount,\n",
    "                'BondCount':BondCount, 'AromaticBondsCount':AromaticBondsCount, \n",
    "                    'HeavyBondCount':HeavyBondCount, 'SingleBondCount':SingleBondCount,\n",
    "                   'DoubleBondCount':DoubleBondCount, \n",
    "                   'TripleBondCount':TripleBondCount,\n",
    "                 'McGowanVolume':McGowanVolume, 'TopoPSA(NO)':TopoPSA_NO, \n",
    "                 'TopoPSA':TopoPSA, 'LabuteASA':LabuteASA, \n",
    "                 'APol':APol,'BPol':BPol,'AcidicGroupCount':AcidicGroupCount,\n",
    "                   'BasicGroupCount':BasicGroupCount, \n",
    "   'EccentricConnectivityIndex':EccentricConnectivityIndex, \n",
    "                 'RawTopologicalCharge':RawTopologicalCharge, \n",
    "                'MeanTopologicalCharge':MeanTopologicalCharge, \n",
    "                 'SLogP':SLogP, 'SMR': SMR, 'BertzCT':BertzCT,'BalabanJ':BalabanJ, \n",
    "                   'WienerIndex':WienerIndex, \n",
    "                 'ZagrebIndex':ZagrebIndex, 'ABCIndex':ABCIndex, 'ABCGGIndex':ABCGGIndex, \n",
    "                   'PNSA1':PNSA1,\n",
    "                   'PNSA2':PNSA2, \n",
    "                 'PNSA3':PNSA3, 'PNSA4':PNSA4, 'PNSA5':PNSA5, \n",
    "                 'PPSA1':PPSA1, 'PPSA2':PPSA2, 'PPSA3':PPSA3,\n",
    "                 'PPSA4':PPSA4, 'PPSA5':PPSA5, 'DPSA1':DPSA1,\n",
    "                'DPSA2':DPSA2, 'DPSA3':DPSA3, 'DPSA4':DPSA4, \n",
    "                 'DPSA5':DPSA5, 'FNSA1':FNSA1, 'FNSA2':FNSA2, \n",
    "               'FNSA3':FNSA3, 'FNSA4':FNSA4, 'FNSA5':FNSA5, \n",
    "                 'FPSA1':FPSA1, 'FPSA2':FPSA2, 'FPSA3':FPSA3, \n",
    "                 'FPSA4':FPSA4, 'FPSA5':FPSA5, 'WNSA1':WNSA1,\n",
    "                'WNSA2':WNSA2, 'WNSA3':WNSA3, 'WNSA4':WNSA4, \n",
    "                 'WNSA5':WNSA5, 'WPSA1':WPSA1, 'WPSA2':WPSA2, \n",
    "                 'WPSA3':WPSA3, 'WPSA4':WPSA4, 'WPSA5':WPSA5, \n",
    "                 'RNCG':RNCG, 'RPCG':RPCG, 'RNCS':RNCS, \n",
    "                 'RPCS':RPCS, 'TASA':TASA, 'TPSA':TPSA,'MomentOfInertiaX':MomentOfInertiaX\n",
    "                  }"
   ]
  },
  {
   "cell_type": "code",
   "execution_count": null,
   "metadata": {},
   "outputs": [],
   "source": [
    "#descriptor_data2 = { 'Solubility': new_sol_list}"
   ]
  },
  {
   "cell_type": "code",
   "execution_count": null,
   "metadata": {},
   "outputs": [],
   "source": [
    "df = pd.DataFrame(data = descriptor_data)"
   ]
  },
  {
   "cell_type": "code",
   "execution_count": null,
   "metadata": {},
   "outputs": [],
   "source": [
    "df.to_csv(r'/users/ananyabarthakur/Desktop/Enterprise/trial.csv')"
   ]
  },
  {
   "cell_type": "code",
   "execution_count": null,
   "metadata": {},
   "outputs": [],
   "source": [
    "df.shape"
   ]
  },
  {
   "cell_type": "code",
   "execution_count": null,
   "metadata": {},
   "outputs": [],
   "source": []
  }
 ],
 "metadata": {
  "kernelspec": {
   "display_name": "Python 3",
   "language": "python",
   "name": "python3"
  },
  "language_info": {
   "codemirror_mode": {
    "name": "ipython",
    "version": 3
   },
   "file_extension": ".py",
   "mimetype": "text/x-python",
   "name": "python",
   "nbconvert_exporter": "python",
   "pygments_lexer": "ipython3",
   "version": "3.7.9"
  }
 },
 "nbformat": 4,
 "nbformat_minor": 4
}
